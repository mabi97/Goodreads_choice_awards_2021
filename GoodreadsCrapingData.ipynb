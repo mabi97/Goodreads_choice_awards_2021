{
 "cells": [
  {
   "cell_type": "code",
   "execution_count": 1,
   "metadata": {},
   "outputs": [],
   "source": [
    "from selenium import webdriver\n",
    "from webdriver_manager.chrome import ChromeDriverManager\n",
    "from selenium.webdriver.common.action_chains import ActionChains\n",
    "from bs4 import BeautifulSoup \n",
    "import pandas as pd"
   ]
  },
  {
   "cell_type": "code",
   "execution_count": null,
   "metadata": {},
   "outputs": [],
   "source": [
    "driver = webdriver.Chrome(ChromeDriverManager().install())\n",
    "dataframe = []\n",
    "driver.get('https://www.goodreads.com/choiceawards/best-books-2021')\n",
    "page_source = BeautifulSoup(driver.page_source)\n",
    "Categories = page_source.find('div', id = 'categories')\n",
    "CategoriesURLs = []\n",
    "for x in Categories.select('a'):\n",
    "    if x['href'] != '#':\n",
    "        CategoriesURL = 'https://www.goodreads.com'+x['href']\n",
    "        CategoriesURLs.append(CategoriesURL)\n",
    "CategoriesURLs"
   ]
  },
  {
   "cell_type": "code",
   "execution_count": null,
   "metadata": {},
   "outputs": [],
   "source": [
    "def scraping(webulr):\n",
    "    driver.get(webulr)\n",
    "    page_source1 = BeautifulSoup(driver.page_source)\n",
    "    Votes = []\n",
    "    Titles = []\n",
    "    BookULRs = []\n",
    "    for item in page_source1.select('strong', class_ ='uitext result'):\n",
    "        Vote = item.get_text().strip()\n",
    "        Votes.append(Vote)\n",
    "    for item in page_source1.find_all('a', class_ ='pollAnswer__bookLink'):\n",
    "        title = item.find('img')['alt']\n",
    "        Titles.append(title)   \n",
    "        BookULR = 'https://www.goodreads.com/'+item['href'] \n",
    "        BookULRs.append(BookULR)\n",
    "    five_star = [] \n",
    "    four_star = []\n",
    "    three_star = []\n",
    "    two_star = []\n",
    "    one_star = []\n",
    "    ratingCount = []\n",
    "    reviewCount= []\n",
    "    for item in BookULRs:\n",
    "        driver.get(item)\n",
    "        driver.find_element_by_id('rating_details').click()\n",
    "        page_source2 = BeautifulSoup(driver.page_source)\n",
    "        five_star.append(page_source2.find('div', class_='tooltip goodreads').find_all('td', width=\"90\")[0].get_text().strip())\n",
    "        four_star.append(page_source2.find('div', class_='tooltip goodreads').find_all('td', width=\"90\")[1].get_text().strip())\n",
    "        three_star.append(page_source2.find('div', class_='tooltip goodreads').find_all('td', width=\"90\")[2].get_text().strip())\n",
    "        two_star.append(page_source2.find('div', class_='tooltip goodreads').find_all('td', width=\"90\")[3].get_text().strip())\n",
    "        one_star.append(page_source2.find('div', class_='tooltip goodreads').find_all('td', width=\"90\")[4].get_text().strip())\n",
    "        ratingCount.append(page_source2.find('meta', itemprop='ratingCount')['content'].strip())\n",
    "        reviewCount.append(page_source2.find('meta', itemprop='reviewCount')['content'].strip())\n",
    "    Listbooks = {'Title': Titles, 'Vote': Votes, 'Five_star': five_star, 'Four_star': four_star, 'Three_star': three_star, 'Two_star': two_star, 'One_star': one_star, 'RatingCount': ratingCount\n",
    "    ,'ReviewCount': reviewCount}\n",
    "    df = pd.DataFrame(Listbooks)\n",
    "    df['Total Vote']=page_source1.find('div', class_=\"greyText gcaNumVotes\").get_text().strip()\n",
    "    df['Categorie']= page_source1.find('div', class_=\"gcaMastheader u-marginLeftMedium\").get_text().strip()\n",
    "    return df\n",
    "\n",
    "dataframe = pd.DataFrame()\n",
    "for item in CategoriesURLs[15:]:\n",
    "    x = scraping(item)\n",
    "    dataframe = dataframe.append(x)\n",
    "dataframe.to_excel(r'D:\\Project\\220411_Goodreads\\book3.xlsx', index=False, encoding='utf-8')"
   ]
  }
 ],
 "metadata": {
  "interpreter": {
   "hash": "b3ba2566441a7c06988d0923437866b63cedc61552a5af99d1f4fb67d367b25f"
  },
  "kernelspec": {
   "display_name": "Python 3.9.7 ('base')",
   "language": "python",
   "name": "python3"
  },
  "language_info": {
   "codemirror_mode": {
    "name": "ipython",
    "version": 3
   },
   "file_extension": ".py",
   "mimetype": "text/x-python",
   "name": "python",
   "nbconvert_exporter": "python",
   "pygments_lexer": "ipython3",
   "version": "3.9.7"
  },
  "orig_nbformat": 4
 },
 "nbformat": 4,
 "nbformat_minor": 2
}
